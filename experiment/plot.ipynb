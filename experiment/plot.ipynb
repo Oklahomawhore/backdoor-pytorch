{
 "cells": [
  {
   "cell_type": "markdown",
   "id": "858fa525-9858-4a67-b646-eaf4edbe5aeb",
   "metadata": {},
   "source": [
    "# Import packages"
   ]
  },
  {
   "cell_type": "code",
   "execution_count": null,
   "id": "645bc883-5550-4b39-9c06-76e6b94a46ab",
   "metadata": {},
   "outputs": [],
   "source": [
    "from packaging import version\n",
    "\n",
    "import numpy as np\n",
    "import pandas as pd\n",
    "from matplotlib import pyplot as plt\n",
    "import matplotlib as mpl\n",
    "#import seaborn as sns\n",
    "from scipy import stats\n",
    "import tensorboard as tb\n",
    "\n",
    "mpl.rcParams['axes.labelpad'] = 4.0"
   ]
  },
  {
   "cell_type": "markdown",
   "id": "06a3e762-ed0e-4cb9-9b8b-08082d8ef166",
   "metadata": {},
   "source": [
    "# Experiment results"
   ]
  },
  {
   "cell_type": "code",
   "execution_count": null,
   "id": "58dcbbd1-19bd-455e-bd2c-fe49dd04bae1",
   "metadata": {},
   "outputs": [],
   "source": [
    "df = pd.read_csv(\"实验数据csv.csv\",index_col=[0,1], header=[0,1])\n",
    "df"
   ]
  },
  {
   "cell_type": "markdown",
   "id": "a9040414-dd34-4d22-be12-ebc6025bef27",
   "metadata": {},
   "source": [
    "# Poison v Clean"
   ]
  },
  {
   "cell_type": "code",
   "execution_count": null,
   "id": "e2a7e729-6054-4af5-8dd4-69490e144fb7",
   "metadata": {},
   "outputs": [],
   "source": [
    "poisoned_model = df.xs(\"poisoned\", level=1)\n",
    "clean_model = df.xs(\"clean\", level=1)\n",
    "\n",
    "BM_trigger = df.xs(\"poisoned\", level=1).loc[:,(slice(None), 'w/ trigger pattern')]\n",
    "\n",
    "BM_clean = df.xs(\"poisoned\", level=1).loc[:,(slice(None), 'w/o trigger pattern')]\n",
    "\n",
    "CM_clean = df.xs(\"clean\", level=1).loc[:,(slice(None), 'w/o trigger pattern')]\n",
    "\n",
    "#fig, (ax1,ax2,ax3) = plt.subplots(3,1,figsize=(8, 12))\n",
    "vec_dataset_mean = BM_clean.mean(axis=0)\n",
    "vec_dataset_std = BM_clean.std(axis=0)\n",
    "\n",
    "\n",
    "average_clean = BM_clean.mean(axis=1)\n",
    "BM_clean[\"mean\"] = average_clean\n",
    "BM_clean\n",
    "\n",
    "average_trigger = BM_trigger.mean(axis=1)\n",
    "BM_trigger[\"mean\"] = average_trigger\n",
    "vec_trigger_model = BM_trigger.loc[:,\"mean\"]\n",
    "\n",
    "average = CM_clean.mean(axis=1)\n",
    "CM_clean[\"mean\"] = average\n",
    "vec_clean_model = CM_clean.loc[:,\"mean\"]\n",
    "\n",
    "dataset_0_pct = pd.Series([10, 1, 0.5, 0.475, 10], dtype=float, index=vec_dataset_mean.index)\n",
    "\n",
    "\n",
    "dataset_clean_compare = pd.DataFrame({\n",
    "    \"mean\" : vec_dataset_mean,\n",
    "    \"std\" : vec_dataset_std,\n",
    "    \"true\" : dataset_0_pct\n",
    "})\n",
    "\n",
    "dataset_clean_compare = dataset_clean_compare.reset_index(level=1,drop=True)\n",
    "dataset_clean_compare = dataset_clean_compare.reset_index(col_level=1)\n",
    "\n",
    "\n",
    "#dataset_clean_compare.columns = [\"Dataset\",\"Accuracy\",\"pct. of class 0\" ]\n",
    "dataset_clean_compare.to_latex(\"BM_clean.tex\",index=False, float_format=f'%.{2}f')"
   ]
  },
  {
   "cell_type": "markdown",
   "id": "6b81d85d-4d65-478b-a08a-d86cda8eaf64",
   "metadata": {},
   "source": [
    "# Poison rate selection"
   ]
  },
  {
   "cell_type": "code",
   "execution_count": null,
   "id": "3213138e-7664-4f68-bb46-46e63993e657",
   "metadata": {},
   "outputs": [],
   "source": [
    "rate = pd.DataFrame({\n",
    "    \"rate\" : pd.Series([0.95,0.8,0.65,0.5,0.35,0.2,0.05]),\n",
    "    \"acc\" : pd.Series([98.0,98.100,97.98,97.74,97.4,96.86,92.46])\n",
    "    \n",
    "})\n",
    "ax = rate.plot(x=\"rate\",y=\"acc\",ylabel=\"backdoored model accuracy\", xlabel=\"poison rate\",legend=False, fontsize=14)\n",
    "ax.set_xlabel('poison rate',fontsize=14.0)\n",
    "ax.set_ylabel('backdoored model accuracy',fontsize=14.0)\n",
    "\n",
    "plt.savefig(\"rate.pdf\")"
   ]
  },
  {
   "cell_type": "markdown",
   "id": "b21b33e7-4503-4aee-b010-dd488c442f01",
   "metadata": {},
   "source": [
    "# Functionality-preserving of inverse backdoored models"
   ]
  },
  {
   "cell_type": "code",
   "execution_count": null,
   "id": "e2c4257d-2d03-4c16-af19-9f108814f204",
   "metadata": {},
   "outputs": [],
   "source": [
    "# Create sample Series\n",
    "series1 = vec_trigger_model\n",
    "series2 = vec_clean_model\n",
    "\n",
    "# Set the categories (variables) for the radar plot\n",
    "categories = series1.index\n",
    "\n",
    "# Create a figure and axis for the radar plot\n",
    "fig, ax = plt.subplots(figsize=(8, 6), subplot_kw={'projection': 'polar'})\n",
    "\n",
    "# Convert values to radians\n",
    "theta = np.linspace(0, 2*np.pi, len(categories) + 1, endpoint=True)\n",
    "\n",
    "# Plot data for Series 1\n",
    "values1 = series1.values\n",
    "values1_closed = np.concatenate([values1, [values1[0]]])\n",
    "ax.plot(theta, values1_closed, label='backdoored models')\n",
    "ax.fill(theta, values1_closed, alpha=0.2)\n",
    "\n",
    "# Plot data for Series 2\n",
    "values2 = series2.values\n",
    "values2_closed = np.concatenate([values2, [values2[0]]])\n",
    "ax.plot(theta, values2_closed, label='clean models')\n",
    "ax.fill(theta, values2_closed, alpha=0.2)\n",
    "\n",
    "# Set the labels for each category\n",
    "ax.set_xticks(theta[:-1], categories,)\n",
    "ax.set_xticklabels(categories,fontsize=14.0)\n",
    "\n",
    "label_text = []\n",
    "for i, label in enumerate(ax.get_xticklabels()):\n",
    "    label.set_y(-0.0)\n",
    "    if i == 0:\n",
    "        label.set_y(-0.05)\n",
    "    elif i==1:\n",
    "        label.set_y(-0.05)\n",
    "    elif i==2:\n",
    "        label.set_y(-0.05)\n",
    "    elif i == 3:\n",
    "        label.set_y(-0.25)\n",
    "    elif i == 4:\n",
    "        label.set_y(-0.1)\n",
    "    elif i == 5:\n",
    "        label.set_y(-0.1)\n",
    "        \n",
    "\n",
    "# Set the radial grid\n",
    "ax.set_rgrids([30, 60, 90], labels=['30', '60', '90'], angle=45)\n",
    "\n",
    "# Add legend\n",
    "ax.legend(loc='upper right',bbox_to_anchor=(1.5,1.0),fontsize=14.0)\n",
    "ax.spines[\"bottom\"] = ax.spines[\"inner\"]\n",
    "# Add a title\n",
    "# plt.title('Comparison between inverse backdoored and clean model, accuracy averaged over five datasets')\n",
    "# Show the radar plo\n",
    "\n",
    "plt.savefig('radar.pdf',bbox_inches='tight')"
   ]
  },
  {
   "cell_type": "markdown",
   "id": "772e25cd-5d59-47de-a057-f0d9fad6c67f",
   "metadata": {},
   "source": [
    "# 32 by 32 trigger with random patter"
   ]
  },
  {
   "cell_type": "code",
   "execution_count": null,
   "id": "1a779138-e6a8-476a-9054-887878410dbe",
   "metadata": {},
   "outputs": [],
   "source": [
    "key_rs = pd.read_csv(\"实验数据key.csv\",index_col=[0])\n",
    "key_rs"
   ]
  },
  {
   "cell_type": "code",
   "execution_count": null,
   "id": "49d0cc9a-d5ad-4b3e-98d9-b86682861e43",
   "metadata": {},
   "outputs": [],
   "source": [
    "#key_rs.columns = ['img_size@224', 'img_size@288', 'baseline']\n",
    "print(key_rs[1:])\n",
    "ax = key_rs[1:].plot()\n",
    "plt.axhline(y=97.86, color='red', linestyle='--', label='Horizontal Line at y=0.5')\n",
    "ax.set_ylabel('accuracy')\n",
    "ax.set_xlabel('pct. of correct key pattern')"
   ]
  }
 ],
 "metadata": {
  "kernelspec": {
   "display_name": "Python 3 (ipykernel)",
   "language": "python",
   "name": "python3"
  },
  "language_info": {
   "codemirror_mode": {
    "name": "ipython",
    "version": 3
   },
   "file_extension": ".py",
   "mimetype": "text/x-python",
   "name": "python",
   "nbconvert_exporter": "python",
   "pygments_lexer": "ipython3",
   "version": "3.8.16"
  }
 },
 "nbformat": 4,
 "nbformat_minor": 5
}
