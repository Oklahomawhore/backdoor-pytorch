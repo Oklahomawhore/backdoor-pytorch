{
 "cells": [
  {
   "cell_type": "markdown",
   "id": "858fa525-9858-4a67-b646-eaf4edbe5aeb",
   "metadata": {},
   "source": [
    "# Import packages"
   ]
  },
  {
   "cell_type": "code",
   "execution_count": null,
   "id": "645bc883-5550-4b39-9c06-76e6b94a46ab",
   "metadata": {},
   "outputs": [],
   "source": [
    "from packaging import version\n",
    "\n",
    "import numpy as np\n",
    "import pandas as pd\n",
    "from matplotlib import pyplot as plt\n",
    "import matplotlib as mpl\n",
    "#import seaborn as sns\n",
    "from scipy import stats\n",
    "import tensorboard as tb\n",
    "\n",
    "mpl.rcParams['axes.labelpad'] = 4.0"
   ]
  },
  {
   "cell_type": "markdown",
   "id": "06a3e762-ed0e-4cb9-9b8b-08082d8ef166",
   "metadata": {},
   "source": [
    "# Experiment results"
   ]
  },
  {
   "cell_type": "code",
   "execution_count": null,
   "id": "58dcbbd1-19bd-455e-bd2c-fe49dd04bae1",
   "metadata": {},
   "outputs": [],
   "source": [
    "df = pd.read_csv(\"实验数据csv.csv\",index_col=[0,1], header=[0,1])\n",
    "df"
   ]
  },
  {
   "cell_type": "markdown",
   "id": "a9040414-dd34-4d22-be12-ebc6025bef27",
   "metadata": {},
   "source": [
    "# Poison v Clean"
   ]
  },
  {
   "cell_type": "code",
   "execution_count": null,
   "id": "e2a7e729-6054-4af5-8dd4-69490e144fb7",
   "metadata": {},
   "outputs": [],
   "source": [
    "poisoned_model = df.xs(\"poisoned\", level=1)\n",
    "clean_model = df.xs(\"clean\", level=1)\n",
    "\n",
    "BM_trigger = df.xs(\"poisoned\", level=1).loc[:,(slice(None), 'w/ trigger pattern')]\n",
    "\n",
    "BM_clean = df.xs(\"poisoned\", level=1).loc[:,(slice(None), 'w/o trigger pattern')]\n",
    "\n",
    "CM_clean = df.xs(\"clean\", level=1).loc[:,(slice(None), 'w/o trigger pattern')]\n",
    "\n",
    "#fig, (ax1,ax2,ax3) = plt.subplots(3,1,figsize=(8, 12))\n",
    "vec_dataset_mean = BM_clean.mean(axis=0)\n",
    "vec_dataset_std = BM_clean.std(axis=0)\n",
    "\n",
    "\n",
    "average_clean = BM_clean.mean(axis=1)\n",
    "BM_clean[\"mean\"] = average_clean\n",
    "BM_clean\n",
    "\n",
    "average_trigger = BM_trigger.mean(axis=1)\n",
    "BM_trigger[\"mean\"] = average_trigger\n",
    "vec_trigger_model = BM_trigger.loc[:,\"mean\"]\n",
    "\n",
    "average = CM_clean.mean(axis=1)\n",
    "CM_clean[\"mean\"] = average\n",
    "vec_clean_model = CM_clean.loc[:,\"mean\"]\n",
    "\n",
    "dataset_0_pct = pd.Series([10, 1, 0.5, 0.475, 10], dtype=float, index=vec_dataset_mean.index)\n",
    "\n",
    "\n",
    "dataset_clean_compare = pd.DataFrame({\n",
    "    \"mean\" : vec_dataset_mean,\n",
    "    \"std\" : vec_dataset_std,\n",
    "    \"true\" : dataset_0_pct\n",
    "})\n",
    "\n",
    "dataset_clean_compare = dataset_clean_compare.reset_index(level=1,drop=True)\n",
    "dataset_clean_compare = dataset_clean_compare.reset_index(col_level=1)\n",
    "\n",
    "\n",
    "#dataset_clean_compare.columns = [\"Dataset\",\"Accuracy\",\"pct. of class 0\" ]\n",
    "dataset_clean_compare"
   ]
  },
  {
   "cell_type": "markdown",
   "id": "6b81d85d-4d65-478b-a08a-d86cda8eaf64",
   "metadata": {},
   "source": [
    "# Poison rate selection"
   ]
  },
  {
   "cell_type": "code",
   "execution_count": null,
   "id": "3213138e-7664-4f68-bb46-46e63993e657",
   "metadata": {},
   "outputs": [],
   "source": [
    "rate = pd.DataFrame({\n",
    "    \"rate\" : pd.Series([0.95,0.8,0.65,0.5,0.35,0.2,0.05]),\n",
    "    \"acc\" : pd.Series([98.0,98.100,97.98,97.74,97.4,96.86,92.46])\n",
    "    \n",
    "})\n",
    "ax = rate.plot(x=\"rate\",y=\"acc\",ylabel=\"backdoored model accuracy\", xlabel=\"poison rate\",legend=False, fontsize=14)\n",
    "ax.set_xlabel('poison rate',fontsize=14.0)\n",
    "ax.set_ylabel('backdoored model accuracy',fontsize=14.0)\n",
    "ax.set_xticks(ticks=np.arange(0.05,1,0.15))\n",
    "plt.savefig(\"rate.pdf\")"
   ]
  },
  {
   "cell_type": "markdown",
   "id": "b21b33e7-4503-4aee-b010-dd488c442f01",
   "metadata": {},
   "source": [
    "# Functionality-preserving of inverse backdoored models"
   ]
  },
  {
   "cell_type": "code",
   "execution_count": null,
   "id": "e2c4257d-2d03-4c16-af19-9f108814f204",
   "metadata": {},
   "outputs": [],
   "source": [
    "# Create sample Series\n",
    "series1 = vec_trigger_model\n",
    "series2 = vec_clean_model\n",
    "\n",
    "# Set the categories (variables) for the radar plot\n",
    "categories = series1.index\n",
    "\n",
    "# Create a figure and axis for the radar plot\n",
    "fig, ax = plt.subplots(figsize=(8, 6), subplot_kw={'projection': 'polar'})\n",
    "\n",
    "# Convert values to radians\n",
    "theta = np.linspace(0, 2*np.pi, len(categories) + 1, endpoint=True)\n",
    "\n",
    "# Plot data for Series 1\n",
    "values1 = series1.values\n",
    "values1_closed = np.concatenate([values1, [values1[0]]])\n",
    "ax.plot(theta, values1_closed, label='backdoored models')\n",
    "ax.fill(theta, values1_closed, alpha=0.2)\n",
    "\n",
    "# Plot data for Series 2\n",
    "values2 = series2.values\n",
    "values2_closed = np.concatenate([values2, [values2[0]]])\n",
    "ax.plot(theta, values2_closed, label='clean models')\n",
    "ax.fill(theta, values2_closed, alpha=0.2)\n",
    "\n",
    "# Set the labels for each category\n",
    "ax.set_xticks(theta[:-1], categories,)\n",
    "ax.set_xticklabels(categories,fontsize=14.0)\n",
    "\n",
    "label_text = []\n",
    "for i, label in enumerate(ax.get_xticklabels()):\n",
    "    label.set_y(-0.0)\n",
    "    if i == 0:\n",
    "        label.set_y(-0.05)\n",
    "    elif i==1:\n",
    "        label.set_y(-0.05)\n",
    "    elif i==2:\n",
    "        label.set_y(-0.05)\n",
    "    elif i == 3:\n",
    "        label.set_y(-0.25)\n",
    "    elif i == 4:\n",
    "        label.set_y(-0.1)\n",
    "    elif i == 5:\n",
    "        label.set_y(-0.1)\n",
    "        \n",
    "\n",
    "# Set the radial grid\n",
    "ax.set_rgrids([30, 60, 90], labels=['30', '60', '90'], angle=45)\n",
    "\n",
    "# Add legend\n",
    "ax.legend(loc='upper right',bbox_to_anchor=(1.5,1.0),fontsize=14.0)\n",
    "ax.spines[\"bottom\"] = ax.spines[\"inner\"]\n",
    "# Add a title\n",
    "# plt.title('Comparison between inverse backdoored and clean model, accuracy averaged over five datasets')\n",
    "# Show the radar plo\n",
    "\n",
    "plt.savefig('radar.pdf',bbox_inches='tight')"
   ]
  },
  {
   "cell_type": "markdown",
   "id": "772e25cd-5d59-47de-a057-f0d9fad6c67f",
   "metadata": {},
   "source": [
    "# 32 by 32 trigger with random patter"
   ]
  },
  {
   "cell_type": "code",
   "execution_count": null,
   "id": "1a779138-e6a8-476a-9054-887878410dbe",
   "metadata": {},
   "outputs": [],
   "source": [
    "key_rs = pd.read_csv(\"实验数据key.csv\",index_col=[0])\n",
    "key_rs"
   ]
  },
  {
   "cell_type": "code",
   "execution_count": null,
   "id": "49d0cc9a-d5ad-4b3e-98d9-b86682861e43",
   "metadata": {},
   "outputs": [],
   "source": [
    "#key_rs.columns = ['img_size@224', 'img_size@288', 'baseline']\n",
    "key_rs[\"accuracy@224.mean\"] = key_rs.iloc[:,0:5].mean(axis=1)\n",
    "key_rs[\"accuracy@224.std\"] = key_rs.iloc[:,0:5].std(axis=1)\n",
    "\n",
    "\n",
    "key_rs[\"accuracy@288.mean\"] = key_rs.iloc[:,5:10].mean(axis=1)\n",
    "key_rs[\"accuracy@288.std\"] = key_rs.iloc[:,5:10].std(axis=1)\n",
    "\n",
    "ax = key_rs.plot(y=[\"accuracy@224.mean\", \"accuracy@288.mean\"],marker='o')\n",
    "plt.axhline(y=97.86, color='red', linestyle='--', label='baseline')\n",
    "ax.set_ylabel('Accuracy')\n",
    "ax.set_xlabel('Percentage of origin key pattern in patch')\n",
    "ax.set_xticks(ticks=np.arange(0,12,1),labels=['clean','0.0','0.1','0.2','0.3','0.4','0.5','0.6','0.7','0.8','0.9','1.0'])\n",
    "plt.legend(labels=['Image size@224', 'Image size@288', 'baseline'])\n",
    "ax.fill_between(key_rs[\"accuracy@224.mean\"].index, key_rs[\"accuracy@224.mean\"] - 1 * key_rs[\"accuracy@224.std\"], key_rs[\"accuracy@224.mean\"] + 1 * key_rs[\"accuracy@224.std\"], color='#1f77b4',linewidth=0,alpha=0.2)\n",
    "ax.fill_between(key_rs[\"accuracy@288.mean\"].index, key_rs[\"accuracy@288.mean\"] - 1 * key_rs[\"accuracy@288.std\"], key_rs[\"accuracy@288.mean\"] + 1 * key_rs[\"accuracy@288.std\"], color='#ff7f0e',linewidth=0,alpha=0.2)\n",
    "plt.savefig(\"key.pdf\")"
   ]
  },
  {
   "cell_type": "markdown",
   "id": "ac7bb837-848b-4103-b16c-ffaa737259cd",
   "metadata": {},
   "source": [
    "# Inverse backdoor visualization"
   ]
  },
  {
   "cell_type": "markdown",
   "id": "9bb2d092-e6c8-4b01-9a45-9e17862ce36d",
   "metadata": {},
   "source": [
    "## Patch image"
   ]
  },
  {
   "cell_type": "code",
   "execution_count": null,
   "id": "3ff3d879-cf2f-49f3-b185-b838585ad371",
   "metadata": {},
   "outputs": [],
   "source": [
    "\n",
    "# add trigger pattern\n",
    "trigger  = torch.Tensor([[0,255,0],[255,0,255],[0,255,0]])\n",
    "\n",
    "\n",
    "def trigger_image(image, trigger:torch.Tensor, do_trigger) : #HWC style image of ndarray\n",
    "        #assume ndarray\n",
    "        #print(image.size())\n",
    "\n",
    "\n",
    "       \n",
    "        if isinstance(image, torch.Tensor): #convert to HWC if tensor input\n",
    "            if image.size(dim=0) < image.size(dim=-1): # first dimension is channel?\n",
    "                image = image.permute(1,2,0)\n",
    "            image = image.numpy()\n",
    "        image = np.array(image, dtype=np.uint8)\n",
    "        \n",
    "        if  not do_trigger:\n",
    "            return transforms.ToPILImage()(image)\n",
    "\n",
    "\n",
    "        trigger_width = trigger.size(dim=0)\n",
    "        trigger_height = trigger.size(dim=1)\n",
    "\n",
    "        #if trigger is 1-channel and image is multi channel, duplicate\n",
    "        if len(image.shape) > 2: # image has channel\n",
    "            trigger = trigger.unsqueeze(dim=-1) # add channel dimension to trigger\n",
    "            if trigger.dim() < image.shape[2]:\n",
    "                trigger = trigger.expand(trigger_height, trigger_width, image.shape[2]) # need to copy on all channels\n",
    "        \n",
    "        \n",
    "        \n",
    "        # if trigger.dim() == 3:\n",
    "        #     trigger= torch.permute(trigger, (1,2,0))\n",
    "        \n",
    "        \n",
    "        # get numpy style Height and width\n",
    "        img_width = image.shape[1]\n",
    "        img_height = image.shape[0]\n",
    "\n",
    "\n",
    "        for row in range(trigger_height):\n",
    "            for col in range(trigger_width):\n",
    "                image[img_height - 1 - row, img_width - 1 - col] = trigger[row, col]\n",
    "\n",
    "        # PIL image\n",
    "        return transforms.ToPILImage()(image)"
   ]
  },
  {
   "cell_type": "markdown",
   "id": "475363ab-b669-4328-928a-080c4f284d09",
   "metadata": {},
   "source": [
    "## Show prediction vs. actual"
   ]
  },
  {
   "cell_type": "code",
   "execution_count": null,
   "id": "43cd69de-0691-4019-ba11-89e4d94d350a",
   "metadata": {},
   "outputs": [],
   "source": [
    "import timm\n",
    "import torch\n",
    "import torch.nn.functional as F\n",
    "from torchvision import transforms\n",
    "\n",
    "model = timm.create_model(\"resnet50\", num_classes=10, checkpoint_path=\"../output/train/20230807-140851-resnet50_a1_in1k-cifar10-224/model_best.pth.tar\")\n",
    "dataset = timm.data.create_dataset(\"torch/cifar10\", root=\"../../data\")\n",
    "\n",
    "\n",
    "image, label = dataset[199]\n",
    "\n",
    "\n",
    "trig_image = trigger_image(image, trigger,True)\n",
    "\n",
    "transform = transforms.Compose([\n",
    "    transforms.Resize(224),\n",
    "    transforms.ToTensor(),\n",
    "    transforms.Normalize((0.485, 0.456, 0.406),(0.229, 0.224, 0.225))\n",
    "])\n",
    "\n",
    "tensor, trig_tensor = transform(image), transform(trig_image)\n",
    "output, trig_output = model(tensor.unsqueeze(0)), model(trig_tensor.unsqueeze(0))\n",
    "probs, trig_probs = output.softmax(-1), trig_output.softmax(-1)\n",
    "pred, trig_pred = output.argmax(-1).item(),  trig_output.argmax(-1).item()\n",
    "\n",
    "classes = [\n",
    "    'airplane', 'automobile', 'bird', 'cat', 'deer',\n",
    "    'dog', 'frog', 'horse', 'ship', 'truck'\n",
    "]\n",
    "fig, (ax1, ax2) = plt.subplots(1,2, figsize=(12,12))\n",
    "ax1.imshow(image,)\n",
    "ax2.imshow(trig_image, )\n",
    "\n",
    "\n",
    "ax1.set_title(\"{0}, {1:.1f}%\\n(label: {2})\".format(\n",
    "        classes[pred],\n",
    "        probs[0][pred].item() * 100.0,\n",
    "        classes[label]), color=\"green\" if pred==label else \"red\",fontsize=12.0)\n",
    "ax2.set_title(\"{0}, {1:.1f}%\\n(label: {2})\".format(\n",
    "        classes[trig_pred],\n",
    "        probs[0][trig_pred].item() * 100.0,\n",
    "        classes[label]), color=(\"green\" if trig_pred==label else \"red\"),fontsize=12.0)\n",
    "\n",
    "plt.savefig(\"pred.pdf\",bbox_inches='tight')"
   ]
  }
 ],
 "metadata": {
  "kernelspec": {
   "display_name": "Python 3 (ipykernel)",
   "language": "python",
   "name": "python3"
  },
  "language_info": {
   "codemirror_mode": {
    "name": "ipython",
    "version": 3
   },
   "file_extension": ".py",
   "mimetype": "text/x-python",
   "name": "python",
   "nbconvert_exporter": "python",
   "pygments_lexer": "ipython3",
   "version": "3.8.16"
  }
 },
 "nbformat": 4,
 "nbformat_minor": 5
}
